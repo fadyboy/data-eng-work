{
 "cells": [
  {
   "cell_type": "code",
   "execution_count": 4,
   "metadata": {},
   "outputs": [],
   "source": [
    "import pandas as pd\n",
    "import pyarrow"
   ]
  },
  {
   "cell_type": "code",
   "execution_count": 7,
   "metadata": {},
   "outputs": [
    {
     "ename": "TypeError",
     "evalue": "read_table() got an unexpected keyword argument 'preserve_index'",
     "output_type": "error",
     "traceback": [
      "\u001b[0;31m---------------------------------------------------------------------------\u001b[0m",
      "\u001b[0;31mTypeError\u001b[0m                                 Traceback (most recent call last)",
      "\u001b[1;32m/home/fady/datatalks/green_taxi_import.ipynb Cell 2\u001b[0m line \u001b[0;36m1\n\u001b[0;32m----> <a href='vscode-notebook-cell:/home/fady/datatalks/green_taxi_import.ipynb#W1sZmlsZQ%3D%3D?line=0'>1</a>\u001b[0m df \u001b[39m=\u001b[39m pd\u001b[39m.\u001b[39;49mread_parquet(\u001b[39m\"\u001b[39;49m\u001b[39mhttps://d37ci6vzurychx.cloudfront.net/trip-data/green_tripdata_2022-01.parquet\u001b[39;49m\u001b[39m\"\u001b[39;49m, engine\u001b[39m=\u001b[39;49m\u001b[39m\"\u001b[39;49m\u001b[39mpyarrow\u001b[39;49m\u001b[39m\"\u001b[39;49m, preserve_index\u001b[39m=\u001b[39;49m\u001b[39mFalse\u001b[39;49;00m)\n",
      "File \u001b[0;32m~/.local/share/virtualenvs/datatalks-rbgwVLZt/lib/python3.10/site-packages/pandas/io/parquet.py:670\u001b[0m, in \u001b[0;36mread_parquet\u001b[0;34m(path, engine, columns, storage_options, use_nullable_dtypes, dtype_backend, filesystem, filters, **kwargs)\u001b[0m\n\u001b[1;32m    664\u001b[0m     use_nullable_dtypes \u001b[39m=\u001b[39m \u001b[39mFalse\u001b[39;00m\n\u001b[1;32m    665\u001b[0m check_dtype_backend(dtype_backend)\n\u001b[1;32m    667\u001b[0m \u001b[39mreturn\u001b[39;00m impl\u001b[39m.\u001b[39mread(\n\u001b[1;32m    668\u001b[0m     path,\n\u001b[1;32m    669\u001b[0m     columns\u001b[39m=\u001b[39mcolumns,\n\u001b[0;32m--> 670\u001b[0m     filters\u001b[39m=\u001b[39mfilters,\n\u001b[1;32m    671\u001b[0m     storage_options\u001b[39m=\u001b[39mstorage_options,\n\u001b[1;32m    672\u001b[0m     use_nullable_dtypes\u001b[39m=\u001b[39muse_nullable_dtypes,\n\u001b[1;32m    673\u001b[0m     dtype_backend\u001b[39m=\u001b[39mdtype_backend,\n\u001b[1;32m    674\u001b[0m     filesystem\u001b[39m=\u001b[39mfilesystem,\n\u001b[1;32m    675\u001b[0m     \u001b[39m*\u001b[39m\u001b[39m*\u001b[39mkwargs,\n\u001b[1;32m    676\u001b[0m )\n",
      "File \u001b[0;32m~/.local/share/virtualenvs/datatalks-rbgwVLZt/lib/python3.10/site-packages/pandas/io/parquet.py:272\u001b[0m, in \u001b[0;36mread\u001b[0;34m(self, path, columns, filters, use_nullable_dtypes, dtype_backend, storage_options, filesystem, **kwargs)\u001b[0m\n\u001b[1;32m    264\u001b[0m \u001b[39mif\u001b[39;00m manager \u001b[39m==\u001b[39m \u001b[39m\"\u001b[39m\u001b[39marray\u001b[39m\u001b[39m\"\u001b[39m:\n\u001b[1;32m    265\u001b[0m     to_pandas_kwargs[\u001b[39m\"\u001b[39m\u001b[39msplit_blocks\u001b[39m\u001b[39m\"\u001b[39m] \u001b[39m=\u001b[39m \u001b[39mTrue\u001b[39;00m  \u001b[39m# type: ignore[assignment]\u001b[39;00m\n\u001b[1;32m    267\u001b[0m path_or_handle, handles, filesystem \u001b[39m=\u001b[39m _get_path_or_handle(\n\u001b[1;32m    268\u001b[0m     path,\n\u001b[1;32m    269\u001b[0m     filesystem,\n\u001b[1;32m    270\u001b[0m     storage_options\u001b[39m=\u001b[39mstorage_options,\n\u001b[1;32m    271\u001b[0m     mode\u001b[39m=\u001b[39m\u001b[39m\"\u001b[39m\u001b[39mrb\u001b[39m\u001b[39m\"\u001b[39m,\n\u001b[0;32m--> 272\u001b[0m )\n\u001b[1;32m    273\u001b[0m \u001b[39mtry\u001b[39;00m:\n\u001b[1;32m    274\u001b[0m     pa_table \u001b[39m=\u001b[39m \u001b[39mself\u001b[39m\u001b[39m.\u001b[39mapi\u001b[39m.\u001b[39mparquet\u001b[39m.\u001b[39mread_table(\n\u001b[1;32m    275\u001b[0m         path_or_handle,\n\u001b[1;32m    276\u001b[0m         columns\u001b[39m=\u001b[39mcolumns,\n\u001b[0;32m   (...)\u001b[0m\n\u001b[1;32m    279\u001b[0m         \u001b[39m*\u001b[39m\u001b[39m*\u001b[39mkwargs,\n\u001b[1;32m    280\u001b[0m     )\n",
      "\u001b[0;31mTypeError\u001b[0m: read_table() got an unexpected keyword argument 'preserve_index'"
     ]
    }
   ],
   "source": [
    "df = pd.read_parquet(\"https://d37ci6vzurychx.cloudfront.net/trip-data/green_tripdata_2022-01.parquet\", engine=\"pyarrow\")"
   ]
  },
  {
   "cell_type": "code",
   "execution_count": 6,
   "metadata": {},
   "outputs": [
    {
     "name": "stdout",
     "output_type": "stream",
     "text": [
      "Unexpected exception formatting exception. Falling back to standard exception\n"
     ]
    },
    {
     "name": "stderr",
     "output_type": "stream",
     "text": [
      "Traceback (most recent call last):\n",
      "  File \"/home/fady/.local/share/virtualenvs/datatalks-rbgwVLZt/lib/python3.10/site-packages/IPython/core/formatters.py\", line 223, in catch_format_error\n",
      "    r = method(self, *args, **kwargs)\n",
      "  File \"/home/fady/.local/share/virtualenvs/datatalks-rbgwVLZt/lib/python3.10/site-packages/IPython/core/formatters.py\", line 344, in __call__\n",
      "    return method()\n",
      "  File \"/home/fady/.local/share/virtualenvs/datatalks-rbgwVLZt/lib/python3.10/site-packages/pandas/core/frame.py\", line 1175, in _repr_html_\n",
      "    else:\n",
      "  File \"/home/fady/.local/share/virtualenvs/datatalks-rbgwVLZt/lib/python3.10/site-packages/pandas/io/formats/format.py\", line 1074, in to_html\n",
      "  File \"/home/fady/.local/share/virtualenvs/datatalks-rbgwVLZt/lib/python3.10/site-packages/pandas/io/formats/html.py\", line 88, in to_string\n",
      "    lines = self.render()\n",
      "  File \"/home/fady/.local/share/virtualenvs/datatalks-rbgwVLZt/lib/python3.10/site-packages/pandas/io/formats/html.py\", line 644, in render\n",
      "    super().render()\n",
      "  File \"/home/fady/.local/share/virtualenvs/datatalks-rbgwVLZt/lib/python3.10/site-packages/pandas/io/formats/html.py\", line 94, in render\n",
      "    self._write_table()\n",
      "  File \"/home/fady/.local/share/virtualenvs/datatalks-rbgwVLZt/lib/python3.10/site-packages/pandas/io/formats/html.py\", line 267, in _write_table\n",
      "    self._write_header(indent + self.indent_delta)\n",
      "  File \"/home/fady/.local/share/virtualenvs/datatalks-rbgwVLZt/lib/python3.10/site-packages/pandas/io/formats/html.py\", line 403, in _write_header\n",
      "    self._write_col_header(indent + self.indent_delta)\n",
      "  File \"/home/fady/.local/share/virtualenvs/datatalks-rbgwVLZt/lib/python3.10/site-packages/pandas/io/formats/html.py\", line 383, in _write_col_header\n",
      "    row.extend(self._get_columns_formatted_values())\n",
      "  File \"/home/fady/.local/share/virtualenvs/datatalks-rbgwVLZt/lib/python3.10/site-packages/pandas/io/formats/html.py\", line 611, in _get_columns_formatted_values\n",
      "    return self.columns._format_flat(include_name=False)\n",
      "AttributeError: 'Index' object has no attribute '_format_flat'. Did you mean: '_format_data'?\n",
      "\n",
      "During handling of the above exception, another exception occurred:\n",
      "\n",
      "Traceback (most recent call last):\n",
      "  File \"/home/fady/.local/share/virtualenvs/datatalks-rbgwVLZt/lib/python3.10/site-packages/IPython/core/interactiveshell.py\", line 2144, in showtraceback\n",
      "    stb = self.InteractiveTB.structured_traceback(\n",
      "  File \"/home/fady/.local/share/virtualenvs/datatalks-rbgwVLZt/lib/python3.10/site-packages/IPython/core/ultratb.py\", line 1435, in structured_traceback\n",
      "    evalue: Optional[BaseException],\n",
      "  File \"/home/fady/.local/share/virtualenvs/datatalks-rbgwVLZt/lib/python3.10/site-packages/IPython/core/ultratb.py\", line 1326, in structured_traceback\n",
      "  File \"/home/fady/.local/share/virtualenvs/datatalks-rbgwVLZt/lib/python3.10/site-packages/IPython/core/ultratb.py\", line 1173, in structured_traceback\n",
      "    res = list(stack_data.FrameInfo.stack_data(etb, options=options))[tb_offset:]\n",
      "  File \"/home/fady/.local/share/virtualenvs/datatalks-rbgwVLZt/lib/python3.10/site-packages/IPython/core/ultratb.py\", line 1088, in format_exception_as_a_whole\n",
      "    record.frame.f_locals.get(\"__tracebackhide__\", 0)\n",
      "  File \"/home/fady/.local/share/virtualenvs/datatalks-rbgwVLZt/lib/python3.10/site-packages/IPython/core/ultratb.py\", line 970, in format_record\n",
      "    current_line,\n",
      "  File \"/home/fady/.local/share/virtualenvs/datatalks-rbgwVLZt/lib/python3.10/site-packages/IPython/core/ultratb.py\", line 792, in lines\n",
      "    from executing.executing import NotOneValueFound\n",
      "  File \"/home/fady/.local/share/virtualenvs/datatalks-rbgwVLZt/lib/python3.10/site-packages/stack_data/utils.py\", line 145, in cached_property_wrapper\n",
      "    value = obj.__dict__[self.func.__name__] = self.func(obj)\n",
      "  File \"/home/fady/.local/share/virtualenvs/datatalks-rbgwVLZt/lib/python3.10/site-packages/stack_data/core.py\", line 734, in lines\n",
      "    pieces = self.included_pieces\n",
      "  File \"/home/fady/.local/share/virtualenvs/datatalks-rbgwVLZt/lib/python3.10/site-packages/stack_data/utils.py\", line 145, in cached_property_wrapper\n",
      "    value = obj.__dict__[self.func.__name__] = self.func(obj)\n",
      "  File \"/home/fady/.local/share/virtualenvs/datatalks-rbgwVLZt/lib/python3.10/site-packages/stack_data/core.py\", line 681, in included_pieces\n",
      "    pos = scope_pieces.index(self.executing_piece)\n",
      "  File \"/home/fady/.local/share/virtualenvs/datatalks-rbgwVLZt/lib/python3.10/site-packages/stack_data/utils.py\", line 145, in cached_property_wrapper\n",
      "    value = obj.__dict__[self.func.__name__] = self.func(obj)\n",
      "  File \"/home/fady/.local/share/virtualenvs/datatalks-rbgwVLZt/lib/python3.10/site-packages/stack_data/core.py\", line 660, in executing_piece\n",
      "    return only(\n",
      "  File \"/home/fady/.local/share/virtualenvs/datatalks-rbgwVLZt/lib/python3.10/site-packages/executing/executing.py\", line 116, in only\n",
      "    raise NotOneValueFound('Expected one value, found 0')\n",
      "executing.executing.NotOneValueFound: Expected one value, found 0\n"
     ]
    },
    {
     "data": {
      "text/plain": [
       "       VendorID lpep_pickup_datetime lpep_dropoff_datetime store_and_fwd_flag  \\\n",
       "0             2  2022-01-01 00:14:21   2022-01-01 00:15:33                  N   \n",
       "1             1  2022-01-01 00:20:55   2022-01-01 00:29:38                  N   \n",
       "2             1  2022-01-01 00:57:02   2022-01-01 01:13:14                  N   \n",
       "3             2  2022-01-01 00:07:42   2022-01-01 00:15:57                  N   \n",
       "4             2  2022-01-01 00:07:50   2022-01-01 00:28:52                  N   \n",
       "...         ...                  ...                   ...                ...   \n",
       "62490         2  2022-01-31 23:25:00   2022-01-31 23:33:00               None   \n",
       "62491         2  2022-01-31 23:52:00   2022-02-01 00:10:00               None   \n",
       "62492         2  2022-01-31 23:17:00   2022-01-31 23:36:00               None   \n",
       "62493         2  2022-01-31 23:45:00   2022-01-31 23:55:00               None   \n",
       "62494         2  2022-01-31 23:52:00   2022-02-01 00:26:00               None   \n",
       "\n",
       "       RatecodeID  PULocationID  DOLocationID  passenger_count  trip_distance  \\\n",
       "0             1.0            42            42              1.0           0.44   \n",
       "1             1.0           116            41              1.0           2.10   \n",
       "2             1.0            41           140              1.0           3.70   \n",
       "3             1.0           181           181              1.0           1.69   \n",
       "4             1.0            33           170              1.0           6.26   \n",
       "...           ...           ...           ...              ...            ...   \n",
       "62490         NaN            40            65              NaN           1.40   \n",
       "62491         NaN            36            61              NaN           2.97   \n",
       "62492         NaN            75           167              NaN           3.70   \n",
       "62493         NaN           116           166              NaN           1.88   \n",
       "62494         NaN           225           179              NaN           9.60   \n",
       "\n",
       "       fare_amount  extra  mta_tax  tip_amount  tolls_amount ehail_fee  \\\n",
       "0             3.50   0.50      0.5        0.00           0.0      None   \n",
       "1             9.50   0.50      0.5        0.00           0.0      None   \n",
       "2            14.50   3.25      0.5        4.60           0.0      None   \n",
       "3             8.00   0.50      0.5        0.00           0.0      None   \n",
       "4            22.00   0.50      0.5        5.21           0.0      None   \n",
       "...            ...    ...      ...         ...           ...       ...   \n",
       "62490         8.38   0.00      0.0        1.93           0.0      None   \n",
       "62491        14.92   0.00      0.0        0.00           0.0      None   \n",
       "62492        16.26   0.00      0.0        0.00           0.0      None   \n",
       "62493         9.48   0.00      0.0        2.17           0.0      None   \n",
       "62494        32.18   0.00      0.0        7.23          10.0      None   \n",
       "\n",
       "       improvement_surcharge  total_amount  payment_type  trip_type  \\\n",
       "0                        0.3          4.80           2.0        1.0   \n",
       "1                        0.3         10.80           2.0        1.0   \n",
       "2                        0.3         23.15           1.0        1.0   \n",
       "3                        0.3          9.30           2.0        1.0   \n",
       "4                        0.3         31.26           1.0        1.0   \n",
       "...                      ...           ...           ...        ...   \n",
       "62490                    0.3         10.61           NaN        NaN   \n",
       "62491                    0.3         15.22           NaN        NaN   \n",
       "62492                    0.3         16.56           NaN        NaN   \n",
       "62493                    0.3         11.95           NaN        NaN   \n",
       "62494                    0.3         49.71           NaN        NaN   \n",
       "\n",
       "       congestion_surcharge  \n",
       "0                      0.00  \n",
       "1                      0.00  \n",
       "2                      2.75  \n",
       "3                      0.00  \n",
       "4                      2.75  \n",
       "...                     ...  \n",
       "62490                   NaN  \n",
       "62491                   NaN  \n",
       "62492                   NaN  \n",
       "62493                   NaN  \n",
       "62494                   NaN  \n",
       "\n",
       "[62495 rows x 20 columns]"
      ]
     },
     "execution_count": 6,
     "metadata": {},
     "output_type": "execute_result"
    }
   ],
   "source": [
    "df"
   ]
  }
 ],
 "metadata": {
  "kernelspec": {
   "display_name": "datatalks-rbgwVLZt",
   "language": "python",
   "name": "python3"
  },
  "language_info": {
   "codemirror_mode": {
    "name": "ipython",
    "version": 3
   },
   "file_extension": ".py",
   "mimetype": "text/x-python",
   "name": "python",
   "nbconvert_exporter": "python",
   "pygments_lexer": "ipython3",
   "version": "3.10.12"
  }
 },
 "nbformat": 4,
 "nbformat_minor": 2
}
